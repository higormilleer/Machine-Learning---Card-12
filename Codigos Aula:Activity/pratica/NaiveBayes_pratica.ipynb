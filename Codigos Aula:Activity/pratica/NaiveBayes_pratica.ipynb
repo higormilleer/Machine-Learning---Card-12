{
 "cells": [
  {
   "cell_type": "code",
   "execution_count": 2,
   "id": "4ab70998-569b-4345-8650-4cedd873feee",
   "metadata": {},
   "outputs": [
    {
     "name": "stdout",
     "output_type": "stream",
     "text": [
      "Acurácia do modelo: 0.9544\n"
     ]
    }
   ],
   "source": [
    "import os  # serve para manipular caminhos de diretórios e arquivos\n",
    "import io  # lida com fluxos de arquivos\n",
    "import numpy \n",
    "import pandas as pd  \n",
    "from pandas import DataFrame  \n",
    "from sklearn.feature_extraction.text import CountVectorizer  # transforma mensagens em valores numéricos\n",
    "from sklearn.naive_bayes import MultinomialNB  # algoritmo responsável pelo aprendizado de máquina para classificação\n",
    "from sklearn.model_selection import train_test_split  # para dividir os dados em treino e teste\n",
    "from sklearn.metrics import accuracy_score  # para calcular a acurácia\n",
    "\n",
    "# Função para ler os arquivos de e-mails\n",
    "def readFiles(path):\n",
    "    for root, dirnames, filenames in os.walk(path):  # caminha pelos diretórios especificados\n",
    "        for filename in filenames:  # itera sobre cada arquivo\n",
    "            path = os.path.join(root, filename)  # pega o caminho completo do arquivo\n",
    "\n",
    "            inBody = False  # identificar se estamos na parte do corpo do e-mail\n",
    "            lines = []  # lista para armazenar as linhas do corpo do e-mail\n",
    "            f = io.open(path, 'r', encoding='latin1')  # abre o arquivo \n",
    "            for line in f:\n",
    "                if inBody:  # caso já esteja na parte do corpo, adicionamos as linhas\n",
    "                    lines.append(line)\n",
    "                elif line == '\\n':  # uma linha em branco separa o cabeçalho do corpo\n",
    "                    inBody = True\n",
    "            f.close()  # fecha o arquivo\n",
    "            message = '\\n'.join(lines)  # junta as linhas do corpo em uma única string\n",
    "            yield path, message  # retorna o caminho do arquivo e o conteúdo do e-mail\n",
    "\n",
    "# Função para criar o DataFrame a partir dos arquivos em um diretório\n",
    "def dataFrameFromDirectory(path, classification):\n",
    "    rows = []  # lista para armazenar os dados de cada arquivo\n",
    "    index = []  # lista para armazenar os nomes dos arquivos como índice\n",
    "    for filename, message in readFiles(path):  # usa a função anterior para ler arquivos\n",
    "        rows.append({'message': message, 'class': classification})  # adiciona uma linha com a mensagem e a classe ('spam' ou 'ham')\n",
    "        index.append(filename)  # adiciona o nome do arquivo ao índice anteriormente citado\n",
    "    return DataFrame(rows, index=index)  # retorna um DataFrame com os dados\n",
    "\n",
    "# Cria um DataFrame vazio com colunas 'message' e 'class'\n",
    "data = DataFrame({'message': [], 'class': []})  \n",
    "\n",
    "# Concatena os DataFrames de spam e ham\n",
    "data = pd.concat([data, dataFrameFromDirectory('/Users/heloamillergrassi/Downloads/MLCourse/emails/spam', 'spam')])\n",
    "data = pd.concat([data, dataFrameFromDirectory('/Users/heloamillergrassi/Downloads/MLCourse/emails/ham', 'ham')])\n",
    "\n",
    "# Criando o vetor de características a partir das mensagens\n",
    "vectorizer = CountVectorizer()\n",
    "X = vectorizer.fit_transform(data['message'].values)  # Transforma as mensagens em uma matriz de contagem de palavras\n",
    "\n",
    "# Definindo as classes (spam ou ham) como alvo\n",
    "y = data['class'].values\n",
    "\n",
    "# Dividindo os dados em conjunto de treino e conjunto de teste\n",
    "X_train, X_test, y_train, y_test = train_test_split(X, y, test_size=0.3, random_state=42)\n",
    "\n",
    "# Criando o classificador Multinomial Naive Bayes\n",
    "classifier = MultinomialNB()\n",
    "\n",
    "# Treinando o classificador com os dados de treino\n",
    "classifier.fit(X_train, y_train)\n",
    "\n",
    "# Fazendo previsões com os dados de teste\n",
    "y_pred = classifier.predict(X_test)\n",
    "\n",
    "# Avaliando a acurácia do modelo\n",
    "accuracy = accuracy_score(y_test, y_pred)\n",
    "\n",
    "# Mostrando a acurácia\n",
    "print(f'Acurácia do modelo: {accuracy:.4f}')\n"
   ]
  },
  {
   "cell_type": "code",
   "execution_count": null,
   "id": "44cc4d59-e2c1-401f-98a2-2d99e2b4bfe6",
   "metadata": {},
   "outputs": [],
   "source": []
  }
 ],
 "metadata": {
  "kernelspec": {
   "display_name": "Python [conda env:base] *",
   "language": "python",
   "name": "conda-base-py"
  },
  "language_info": {
   "codemirror_mode": {
    "name": "ipython",
    "version": 3
   },
   "file_extension": ".py",
   "mimetype": "text/x-python",
   "name": "python",
   "nbconvert_exporter": "python",
   "pygments_lexer": "ipython3",
   "version": "3.12.7"
  }
 },
 "nbformat": 4,
 "nbformat_minor": 5
}
