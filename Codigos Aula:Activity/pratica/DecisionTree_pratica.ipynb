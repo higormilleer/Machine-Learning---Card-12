{
 "cells": [
  {
   "cell_type": "code",
   "execution_count": 2,
   "id": "e9f1f526-cd9b-491c-93d2-eb140a866f3c",
   "metadata": {},
   "outputs": [
    {
     "name": "stdout",
     "output_type": "stream",
     "text": [
      "Árvore de Decisão do Random Forest Original:\n",
      "|--- class: 1.0\n",
      "\n",
      "\n",
      "Comparação das previsões para os dados de teste:\n",
      "Previsões Invertidas: [0 1]\n"
     ]
    }
   ],
   "source": [
    "from sklearn.ensemble import RandomForestClassifier\n",
    "from sklearn.tree import export_text\n",
    "\n",
    "X = [[10, 1, 4, 0, 0, 0], [10, 0, 4, 0, 0, 0]]  # Exemplos de características\n",
    "y = [1, 0]  # Variável alvo (onde 1 representa 'contratar' e 0 representa 'não contratar')\n",
    "\n",
    "# Inverter a variável alvo (y)\n",
    "y_reversed = [1 - yi for yi in y]  # Inverte os valores de 0 para 1 e de 1 para 0\n",
    "\n",
    "# Treinar o modelo com os valores de y izvertidos\n",
    "clf_reversed = RandomForestClassifier(n_estimators=10, random_state=42)\n",
    "clf_reversed = clf_reversed.fit(X, y_reversed)\n",
    "\n",
    "# Visualizar as árvores de decisão original e invertida\n",
    "print(\"Árvore de Decisão do Random Forest Original:\")\n",
    "# Exibe a árvore de decisão do modelo original (uma das árvores do random forest)\n",
    "print(export_text(clf_reversed.estimators_[0], feature_names=[\"Feature1\", \"Feature2\", \"Feature3\", \"Feature4\", \"Feature5\", \"Feature6\"]))\n",
    "\n",
    "# Comparar as previsões entre os modelos original e invertido\n",
    "print(\"\\nComparação das previsões para os dados de teste:\")\n",
    "# Fazendo previsões com o modelo invertido\n",
    "reversed_predictions = clf_reversed.predict([[10, 1, 4, 0, 0, 0], [10, 0, 4, 0, 0, 0]])\n",
    "\n",
    "print(\"Previsões Invertidas:\", reversed_predictions)\n"
   ]
  },
  {
   "cell_type": "code",
   "execution_count": null,
   "id": "e7653cd4-01cd-44c7-9fb0-48f6e1f77048",
   "metadata": {},
   "outputs": [],
   "source": []
  }
 ],
 "metadata": {
  "kernelspec": {
   "display_name": "Python [conda env:base] *",
   "language": "python",
   "name": "conda-base-py"
  },
  "language_info": {
   "codemirror_mode": {
    "name": "ipython",
    "version": 3
   },
   "file_extension": ".py",
   "mimetype": "text/x-python",
   "name": "python",
   "nbconvert_exporter": "python",
   "pygments_lexer": "ipython3",
   "version": "3.12.7"
  }
 },
 "nbformat": 4,
 "nbformat_minor": 5
}
