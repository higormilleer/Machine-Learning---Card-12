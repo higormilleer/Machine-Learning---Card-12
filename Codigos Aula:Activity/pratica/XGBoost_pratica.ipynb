{
 "cells": [
  {
   "cell_type": "code",
   "execution_count": 2,
   "id": "3bcde2db-089f-43db-be1f-6aabcece4621",
   "metadata": {},
   "outputs": [
    {
     "name": "stdout",
     "output_type": "stream",
     "text": [
      "150\n",
      "4\n",
      "['setosa', 'versicolor', 'virginica']\n"
     ]
    }
   ],
   "source": [
    "from sklearn.datasets import load_iris\n",
    "\n",
    "iris = load_iris() #cria uma flor(iris)\n",
    "\n",
    "numSamples, numFeatures = iris.data.shape #define o numero de amostras e caracteristicas da flor\n",
    "print(numSamples) #imprime o nuero de amostras(linhas)\n",
    "print(numFeatures) #imprime o numero de caracteristicas(colunas)\n",
    "print(list(iris.target_names)) #exibe os nomes das especies "
   ]
  },
  {
   "cell_type": "code",
   "execution_count": 6,
   "id": "bfe497bb-e263-4c7b-b604-501617035fa4",
   "metadata": {},
   "outputs": [],
   "source": [
    "from sklearn.model_selection import train_test_split #divide dados em treinos e teste\n",
    "\n",
    "X_train, X_test, y_train, y_test = train_test_split(iris.data, iris.target, test_size=0.2, random_state=0)  # Define que 20% dos dados serão usados para teste e uma semente para tornar a divisão reproduzível"
   ]
  },
  {
   "cell_type": "code",
   "execution_count": 15,
   "id": "a1392e50-99d7-4d65-a665-6664504e1749",
   "metadata": {},
   "outputs": [],
   "source": [
    "import xgboost as xgb\n",
    "\n",
    "train = xgb.DMatrix(X_train, label=y_train) #define como matriz que consiste nos dados do recurso de treinamento\n",
    "test = xgb.DMatrix(X_test, label=y_test) #pega todos os recursos de dados do rrotulo"
   ]
  },
  {
   "cell_type": "code",
   "execution_count": 17,
   "id": "9d46e342-3d29-4e22-ba0a-406311fa7eb1",
   "metadata": {},
   "outputs": [],
   "source": [
    "#basicamente define profundidade, taxa de aprendizado, objetivo e o numero de classes\n",
    "param = {\n",
    "    'max_depth': 4,\n",
    "    'eta': 0.3,\n",
    "    'objective': 'multi:softmax',\n",
    "    'num_class': 3} \n",
    "epochs = 10 #define o numero de iteracoes no treinamento"
   ]
  },
  {
   "cell_type": "code",
   "execution_count": 23,
   "id": "04224bea-dfff-4c57-b918-13cee4993d6a",
   "metadata": {},
   "outputs": [],
   "source": [
    "predictions = model.predict(test) #gera previsoes a partir do modelo treinado"
   ]
  },
  {
   "cell_type": "code",
   "execution_count": 27,
   "id": "b93697bc-8e79-48fc-8fc1-ef1c8d85ff22",
   "metadata": {},
   "outputs": [
    {
     "data": {
      "text/plain": [
       "1.0"
      ]
     },
     "execution_count": 27,
     "metadata": {},
     "output_type": "execute_result"
    }
   ],
   "source": [
    "#basicamente define profundidade, taxa de aprendizado, objetivo e o numero de classes\n",
    "param = {\n",
    "    'max_depth': 4,\n",
    "    'eta': 0.3,\n",
    "    'objective': 'multi:softmax',\n",
    "    'num_class': 3} \n",
    "epochs = 8 #define o numero de iteracoes no treinamento\n",
    "\n",
    "model = xgb.train(param, train, epochs) #treina o modelo utilizando o paremetros anteriormente colocados em modo de treinameno\n",
    "\n",
    "predictions = model.predict(test) #gera previsoes a partir do modelo treinado\n",
    "\n",
    "from sklearn.metrics import accuracy_score\n",
    "\n",
    "accuracy_score(y_test, predictions) #calcula a precisao das previsoes"
   ]
  },
  {
   "cell_type": "code",
   "execution_count": null,
   "id": "366dfb74-9300-46ff-8045-1473b1693ba4",
   "metadata": {},
   "outputs": [],
   "source": []
  }
 ],
 "metadata": {
  "kernelspec": {
   "display_name": "Python [conda env:base] *",
   "language": "python",
   "name": "conda-base-py"
  },
  "language_info": {
   "codemirror_mode": {
    "name": "ipython",
    "version": 3
   },
   "file_extension": ".py",
   "mimetype": "text/x-python",
   "name": "python",
   "nbconvert_exporter": "python",
   "pygments_lexer": "ipython3",
   "version": "3.12.7"
  }
 },
 "nbformat": 4,
 "nbformat_minor": 5
}
