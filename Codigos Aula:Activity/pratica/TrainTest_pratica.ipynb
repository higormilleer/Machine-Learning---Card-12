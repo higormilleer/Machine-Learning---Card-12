{
 "cells": [
  {
   "cell_type": "code",
   "execution_count": 4,
   "id": "45e6b8af-8fa5-4c51-b59e-b39f1e21cd09",
   "metadata": {},
   "outputs": [
    {
     "data": {
      "text/plain": [
       "<matplotlib.collections.PathCollection at 0x169fa2cf0>"
      ]
     },
     "execution_count": 4,
     "metadata": {},
     "output_type": "execute_result"
    }
   ],
   "source": [
    "%matplotlib inline\n",
    "import numpy as np\n",
    "from pylab import *\n",
    "\n",
    "np.random.seed(2)  #define a semente do gerador de numeros aleatorios para garantir resultados manpulaveis\n",
    "\n",
    "pageSpeeds = np.random.normal(3.0, 1.0, 100)  # Cria um array de 100 números aleatorio com distribuicao normal (media 3, desvio padrao 1) \n",
    "purchaseAmount = np.random.normal(50.0, 30.0, 100) / pageSpeeds  #cria uma relacao inversa entre a velocidade da pagina e os valores de compras\n",
    "\n",
    "scatter(pageSpeeds, purchaseAmount)  # plota um grafico entre os dois\n"
   ]
  },
  {
   "cell_type": "code",
   "execution_count": 9,
   "id": "ef4985da-c8f2-4028-aa50-bc66a356ad19",
   "metadata": {},
   "outputs": [],
   "source": [
    "trainX = pageSpeeds[:80]#separa os 80 primeiros valores para treino\n",
    "testX = pageSpeeds[80:]#separa os 80 restantes valores para teste\n",
    "\n",
    "trainY = purchaseAmount[:80]#separa os 80 primeiros valores para o conjunto de treinamento\n",
    "testY = purchaseAmount[80:]#separa os 80 restantes valores para o conjunto de teste\n"
   ]
  },
  {
   "cell_type": "code",
   "execution_count": 11,
   "id": "25048a75-4775-4c19-a2e3-3b86e0f43572",
   "metadata": {},
   "outputs": [],
   "source": [
    "x = np.array(trainX)\n",
    "y = np.array(trainY)\n",
    "\n",
    "p4 = np.poly1d(np.polyfit(x, y, 8)) #plota os dois em um grafico de polinomio 8"
   ]
  },
  {
   "cell_type": "code",
   "execution_count": 13,
   "id": "7be233f5-f5f3-471d-9c36-3df383ccbaa9",
   "metadata": {},
   "outputs": [
    {
     "name": "stdout",
     "output_type": "stream",
     "text": [
      "Grau 1: Rˆ2 Treinamento = 0.2647, Rˆ2 Teste = 0.4225\n",
      "Grau 2: Rˆ2 Treinamento = 0.3616, Rˆ2 Teste = 0.2935\n",
      "Grau 3: Rˆ2 Treinamento = 0.4296, Rˆ2 Teste = 0.2727\n",
      "Grau 4: Rˆ2 Treinamento = 0.4831, Rˆ2 Teste = 0.3936\n",
      "Grau 5: Rˆ2 Treinamento = 0.5545, Rˆ2 Teste = 0.5041\n",
      "Grau 6: Rˆ2 Treinamento = 0.6025, Rˆ2 Teste = 0.6050\n",
      "Grau 7: Rˆ2 Treinamento = 0.6170, Rˆ2 Teste = 0.5461\n",
      "Grau 8: Rˆ2 Treinamento = 0.6427, Rˆ2 Teste = 0.3002\n",
      "Grau 9: Rˆ2 Treinamento = 0.6634, Rˆ2 Teste = 0.2162\n",
      "Grau 10: Rˆ2 Treinamento = 0.6819, Rˆ2 Teste = 0.2249\n"
     ]
    }
   ],
   "source": [
    "from sklearn.metrics import r2_score  \n",
    "\n",
    "#funcao para testar diferentes graus de polinomios\n",
    "for degree in range(1, 11):  #testa polinomios de grau 1 a 10\n",
    "    model = np.poly1d(np.polyfit(trainX, trainY, degree))  # Cria o modelo polinomial com o grau atual\n",
    "    r2_test = r2_score(testY, model(testX))  # Calcula o R² para o conjunto de teste\n",
    "    r2_train = r2_score(trainY, model(trainX))  # Calcula o R² para o conjunto de treinamento\n",
    "    print(f\"Grau {degree}: Rˆ2 Treinamento = {r2_train:.4f}, Rˆ2 Teste = {r2_test:.4f}\")  # Exibe os resultados\n"
   ]
  },
  {
   "cell_type": "code",
   "execution_count": null,
   "id": "5b3a1b98-be86-4056-bdef-d818ef36c8c7",
   "metadata": {},
   "outputs": [],
   "source": []
  }
 ],
 "metadata": {
  "kernelspec": {
   "display_name": "Python [conda env:base] *",
   "language": "python",
   "name": "conda-base-py"
  },
  "language_info": {
   "codemirror_mode": {
    "name": "ipython",
    "version": 3
   },
   "file_extension": ".py",
   "mimetype": "text/x-python",
   "name": "python",
   "nbconvert_exporter": "python",
   "pygments_lexer": "ipython3",
   "version": "3.12.7"
  }
 },
 "nbformat": 4,
 "nbformat_minor": 5
}
